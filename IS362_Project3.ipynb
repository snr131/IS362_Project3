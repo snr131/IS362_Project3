{
 "cells": [
  {
   "cell_type": "markdown",
   "metadata": {
    "id": "F6r066zkbA3x"
   },
   "source": [
    "# Prompt\n",
    "\n",
    "**Your assignment involves combining information from a number of SQL tables, \n",
    "then displaying the information in a pandas DataFrame. For your relational database management system, you may use any RDBMS, including MySQL, PostgreSQL, sqlite, or any of the other RDMBSs supported by the database in Step 1 below.** \n"
   ]
  },
  {
   "cell_type": "markdown",
   "metadata": {
    "id": "9Zlak0XrjspM"
   },
   "source": [
    "# Step 1\n",
    "\n",
    "**For your database, you should download and install the appropriate version \n",
    "of the Chinook database for your RDBMS, which is available here, under the \n",
    "downloads tab: https://chinookdatabase.codeplex.com/**"
   ]
  },
  {
   "cell_type": "markdown",
   "metadata": {
    "id": "aKrhkWHikGJW"
   },
   "source": [
    "## Import libraries"
   ]
  },
  {
   "cell_type": "code",
   "execution_count": 1,
   "metadata": {
    "id": "75yp9A7TkKSZ"
   },
   "outputs": [],
   "source": [
    "# I am selecting to use sqlite to complete this project\n",
    "import sqlite3\n",
    "from sqlalchemy import create_engine\n",
    "import pandas as pd"
   ]
  },
  {
   "cell_type": "markdown",
   "metadata": {
    "id": "KfNtmAvzNZCm"
   },
   "source": [
    "I created a sqlite database using this script: https://raw.githubusercontent.com/lerocha/chinook-database/master/ChinookDatabase/DataSources/Chinook_Sqlite.sql"
   ]
  },
  {
   "cell_type": "code",
   "execution_count": 2,
   "metadata": {
    "id": "02lu72sJJABT"
   },
   "outputs": [],
   "source": [
    "# using sqlalchemy, I am accessing the sqlite database 'project3.db' that is stored locally\n",
    "engine = create_engine('sqlite:////Users/snr13/Google Drive/School/CUNY/IS 362/Projects/project3/project3.db')"
   ]
  },
  {
   "cell_type": "markdown",
   "metadata": {
    "id": "Vx6PXcofOevn"
   },
   "source": [
    "# Step 2\n",
    "\n",
    "**Your task is to create a pandas DataFrame that displays Customers’ Last \n",
    "Name and First Name, and each customer’s purchased Track names and \n",
    "Album Titles. The information should be sorted by Customer LastName \n",
    "then Customer FirstName.**"
   ]
  },
  {
   "cell_type": "code",
   "execution_count": 3,
   "metadata": {
    "id": "iY-LI1qtLVqc"
   },
   "outputs": [],
   "source": [
    "# the sql command below joins 5 tables and outputs the info required for this assignment\n",
    "sql = '''SELECT LastName, FirstName, Track.Name, Album.Title\n",
    "         FROM Customer\n",
    "         LEFT JOIN Invoice\n",
    "         ON Customer.CustomerID = Invoice.CustomerId\n",
    "         LEFT JOIN InvoiceLine\n",
    "         ON Invoice.InvoiceId = InvoiceLine.InvoiceId\n",
    "         LEFT JOIN Track\n",
    "         ON InvoiceLine.TrackId = Track.TrackId\n",
    "         LEFT JOIN Album\n",
    "         ON Track.AlbumId = Album.AlbumId \n",
    "         ORDER BY LastName, FirstName'''"
   ]
  },
  {
   "cell_type": "code",
   "execution_count": 4,
   "metadata": {
    "colab": {
     "base_uri": "https://localhost:8080/",
     "height": 195
    },
    "id": "PACL_ET3Jh4u",
    "outputId": "5853d4fd-a6b8-46c7-9ddc-5141bedb90f3"
   },
   "outputs": [
    {
     "data": {
      "text/html": [
       "<div>\n",
       "<style scoped>\n",
       "    .dataframe tbody tr th:only-of-type {\n",
       "        vertical-align: middle;\n",
       "    }\n",
       "\n",
       "    .dataframe tbody tr th {\n",
       "        vertical-align: top;\n",
       "    }\n",
       "\n",
       "    .dataframe thead th {\n",
       "        text-align: right;\n",
       "    }\n",
       "</style>\n",
       "<table border=\"1\" class=\"dataframe\">\n",
       "  <thead>\n",
       "    <tr style=\"text-align: right;\">\n",
       "      <th></th>\n",
       "      <th>LastName</th>\n",
       "      <th>FirstName</th>\n",
       "      <th>Name</th>\n",
       "      <th>Title</th>\n",
       "    </tr>\n",
       "  </thead>\n",
       "  <tbody>\n",
       "    <tr>\n",
       "      <th>0</th>\n",
       "      <td>Almeida</td>\n",
       "      <td>Roberto</td>\n",
       "      <td>Right Next Door to Hell</td>\n",
       "      <td>Use Your Illusion I</td>\n",
       "    </tr>\n",
       "    <tr>\n",
       "      <th>1</th>\n",
       "      <td>Almeida</td>\n",
       "      <td>Roberto</td>\n",
       "      <td>In The Evening</td>\n",
       "      <td>In Through The Out Door</td>\n",
       "    </tr>\n",
       "    <tr>\n",
       "      <th>2</th>\n",
       "      <td>Almeida</td>\n",
       "      <td>Roberto</td>\n",
       "      <td>Fool In The Rain</td>\n",
       "      <td>In Through The Out Door</td>\n",
       "    </tr>\n",
       "    <tr>\n",
       "      <th>3</th>\n",
       "      <td>Almeida</td>\n",
       "      <td>Roberto</td>\n",
       "      <td>Saudade Dos Aviões Da Panair (Conversando No Bar)</td>\n",
       "      <td>Minas</td>\n",
       "    </tr>\n",
       "    <tr>\n",
       "      <th>4</th>\n",
       "      <td>Almeida</td>\n",
       "      <td>Roberto</td>\n",
       "      <td>Caso Você Queira Saber</td>\n",
       "      <td>Minas</td>\n",
       "    </tr>\n",
       "  </tbody>\n",
       "</table>\n",
       "</div>"
      ],
      "text/plain": [
       "  LastName FirstName                                               Name  \\\n",
       "0  Almeida   Roberto                            Right Next Door to Hell   \n",
       "1  Almeida   Roberto                                     In The Evening   \n",
       "2  Almeida   Roberto                                   Fool In The Rain   \n",
       "3  Almeida   Roberto  Saudade Dos Aviões Da Panair (Conversando No Bar)   \n",
       "4  Almeida   Roberto                             Caso Você Queira Saber   \n",
       "\n",
       "                     Title  \n",
       "0      Use Your Illusion I  \n",
       "1  In Through The Out Door  \n",
       "2  In Through The Out Door  \n",
       "3                    Minas  \n",
       "4                    Minas  "
      ]
     },
     "execution_count": 4,
     "metadata": {},
     "output_type": "execute_result"
    }
   ],
   "source": [
    "# the pandas method .read_sql reads/queries the db using the sql command\n",
    "pd.read_sql(sql, engine).head()"
   ]
  }
 ],
 "metadata": {
  "colab": {
   "collapsed_sections": [],
   "name": "IS362_Project3.ipynb",
   "provenance": []
  },
  "kernelspec": {
   "display_name": "Python 3",
   "language": "python",
   "name": "python3"
  },
  "language_info": {
   "codemirror_mode": {
    "name": "ipython",
    "version": 3
   },
   "file_extension": ".py",
   "mimetype": "text/x-python",
   "name": "python",
   "nbconvert_exporter": "python",
   "pygments_lexer": "ipython3",
   "version": "3.8.6"
  }
 },
 "nbformat": 4,
 "nbformat_minor": 1
}
